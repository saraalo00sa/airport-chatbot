{
  "nbformat": 4,
  "nbformat_minor": 0,
  "metadata": {
    "colab": {
      "provenance": [],
      "authorship_tag": "ABX9TyOt3bJihH5dXl1QtHnxaZtJ",
      "include_colab_link": true
    },
    "kernelspec": {
      "name": "python3",
      "display_name": "Python 3"
    },
    "language_info": {
      "name": "python"
    }
  },
  "cells": [
    {
      "cell_type": "markdown",
      "metadata": {
        "id": "view-in-github",
        "colab_type": "text"
      },
      "source": [
        "<a href=\"https://colab.research.google.com/github/saraalo00sa/airport-chatbot/blob/main/cleaned_flights.ipynb\" target=\"_parent\"><img src=\"https://colab.research.google.com/assets/colab-badge.svg\" alt=\"Open In Colab\"/></a>"
      ]
    },
    {
      "cell_type": "code",
      "source": [
        "import pandas as pd\n",
        "\n",
        "# رابط GitHub raw (يجب تغييره لأنه يحتوي على واجهة HTML)\n",
        "github_url = \"https://raw.githubusercontent.com/saraalo00sa/airport-chatbot/main/dataset/flights.csv\"\n",
        "\n",
        "# تحميل البيانات مباشرة من GitHub\n",
        "df = pd.read_csv(github_url)\n",
        "\n",
        "# عرض أول 5 صفوف\n",
        "print(df.head())\n"
      ],
      "metadata": {
        "colab": {
          "base_uri": "https://localhost:8080/"
        },
        "id": "ydtN02IetoW8",
        "outputId": "980cb4b2-6be4-4d2a-d2ae-a101078bc385"
      },
      "execution_count": 2,
      "outputs": [
        {
          "output_type": "stream",
          "name": "stdout",
          "text": [
            "  flight_number departure/arrival_airport departure/arrival_airport.1  \\\n",
            "0       SV 1023        Riyadh King Khaled                         RUH   \n",
            "1       SV 1295        Riyadh King Khaled                         RUH   \n",
            "2        F3 205        Riyadh King Khaled                         RUH   \n",
            "3        J9 230        Riyadh King Khaled                         RUH   \n",
            "4        F3 173        Riyadh King Khaled                         RUH   \n",
            "\n",
            "  flight_status    city_name airport_code departure/arrival_time_local  \\\n",
            "0       Unknown       Jeddah          JED       2024-08-10 08:00+03:00   \n",
            "1       Unknown      Gerayat          URY       2024-08-10 08:05+03:00   \n",
            "2       Unknown        Tabuk          TUU       2024-08-10 08:05+03:00   \n",
            "3       Unknown  Kuwait City          KWI       2024-08-10 08:10+03:00   \n",
            "4       Unknown    Ad Dammam          DMM       2024-08-10 08:10+03:00   \n",
            "\n",
            "   terminal aircraft_model     airline_name       type  \\\n",
            "0       5.0    Airbus A321    Saudi Arabian  Departure   \n",
            "1       5.0    Airbus A320    Saudi Arabian  Departure   \n",
            "2       5.0    Airbus A320         flyadeal  Departure   \n",
            "3       2.0    Airbus A320  Jazeera Airways  Departure   \n",
            "4       5.0    Airbus A320         flyadeal  Departure   \n",
            "\n",
            "  scheduled_datetime_flight actual_datetime_flight  \n",
            "0    2024-08-10 08:00+03:00                    NaN  \n",
            "1    2024-08-10 08:05+03:00                    NaN  \n",
            "2    2024-08-10 08:05+03:00                    NaN  \n",
            "3    2024-08-10 08:10+03:00                    NaN  \n",
            "4    2024-08-10 08:10+03:00                    NaN  \n"
          ]
        }
      ]
    },
    {
      "cell_type": "code",
      "source": [
        "import pandas as pd\n",
        "from datetime import datetime, timedelta\n",
        "\n",
        "# تحميل البيانات\n",
        "github_url = \"https://raw.githubusercontent.com/saraalo00sa/airport-chatbot/main/dataset/flights.csv\"\n",
        "df = pd.read_csv(github_url)\n",
        "\n",
        "# اختيار الأعمدة المهمة فقط\n",
        "df = df[['flight_number', 'airport_code', 'departure/arrival_time_local',\n",
        "         'terminal', 'aircraft_model', 'airline_name', 'type',\n",
        "         'scheduled_datetime_flight', 'flight_status']]\n",
        "\n",
        "# تحويل وقت الرحلة إلى datetime مع تحديد UTC\n",
        "df['scheduled_datetime_flight'] = pd.to_datetime(df['scheduled_datetime_flight'], errors='coerce', utc=True)\n",
        "\n",
        "# الحصول على الوقت الحالي مع UTC\n",
        "current_time = datetime.now().astimezone()  # تحويل الوقت إلى نفس المنطقة الزمنية للبيانات\n",
        "\n",
        "# دالة لحساب حالة البوابة\n",
        "def get_gate_status(scheduled_time):\n",
        "    if pd.isna(scheduled_time):\n",
        "        return \"Unknown\"\n",
        "\n",
        "    # التأكد من أن القيمتين بنفس المنطقة الزمنية قبل الطرح\n",
        "    scheduled_time = scheduled_time.tz_convert(current_time.tzinfo)\n",
        "\n",
        "    if scheduled_time - timedelta(minutes=60) <= current_time < scheduled_time:\n",
        "        return \"Open\"\n",
        "    elif current_time >= scheduled_time:\n",
        "        return \"Closed\"\n",
        "    else:\n",
        "        return \"Unknown\"\n",
        "\n",
        "# تطبيق الدالة على كل الرحلات\n",
        "df['gate_status'] = df['scheduled_datetime_flight'].apply(get_gate_status)\n",
        "\n",
        "# تنظيف البيانات\n",
        "# 1. إزالة الصفوف التي تحتوي على قيم مفقودة (NaN)\n",
        "df_cleaned = df.dropna()\n",
        "\n",
        "# 2. إزالة الصفوف المكررة\n",
        "df_cleaned = df_cleaned.drop_duplicates()\n",
        "\n",
        "# 3. (اختياري) إعادة تعيين الفهرس بعد التنظيف\n",
        "df_cleaned = df_cleaned.reset_index(drop=True)\n",
        "\n",
        "# حفظ البيانات بعد التعديل\n",
        "df_cleaned.to_csv(\"cleaned_flights.csv\", index=False)\n",
        "\n",
        "print(\"✅ Data cleaned, duplicates removed, and 'gate_status' column added successfully!\")\n",
        "\n",
        "\n"
      ],
      "metadata": {
        "colab": {
          "base_uri": "https://localhost:8080/"
        },
        "id": "WXDuBaSlvB_d",
        "outputId": "cb015ca3-2009-494f-b9e0-699865134986"
      },
      "execution_count": 3,
      "outputs": [
        {
          "output_type": "stream",
          "name": "stdout",
          "text": [
            "✅ Data cleaned, duplicates removed, and 'gate_status' column added successfully!\n"
          ]
        }
      ]
    }
  ]
}